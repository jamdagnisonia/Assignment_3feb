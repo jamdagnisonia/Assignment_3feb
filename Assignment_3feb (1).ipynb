{
 "cells": [
  {
   "cell_type": "markdown",
   "id": "eb082fb4-dc2e-48fa-bfd0-8328abaf4423",
   "metadata": {},
   "source": [
    "# Question1"
   ]
  },
  {
   "cell_type": "markdown",
   "id": "54a17b1c-fa18-4d1b-af90-6f33a6650240",
   "metadata": {},
   "source": [
    "# def -\n",
    "       The def keyword is used to create a function."
   ]
  },
  {
   "cell_type": "markdown",
   "id": "084bb200-a65e-431b-b807-00b9a330635a",
   "metadata": {},
   "source": [
    "Create a function to return a list of odd numbers in the range of 1 to 25.\n"
   ]
  },
  {
   "cell_type": "code",
   "execution_count": 1,
   "id": "f548b0ca-bd23-402f-aad8-9b6977afae5f",
   "metadata": {},
   "outputs": [],
   "source": [
    "i=0\n",
    "list=[]\n",
    "def odd_numbers():\n",
    "    for i in range(1,25):\n",
    "        if i%2 !=0:\n",
    "            list.append(i)\n",
    "    print(list)\n",
    "    "
   ]
  },
  {
   "cell_type": "code",
   "execution_count": 2,
   "id": "6e4bd9b7-d13f-40e9-b053-45f958c593d0",
   "metadata": {},
   "outputs": [
    {
     "name": "stdout",
     "output_type": "stream",
     "text": [
      "[1, 3, 5, 7, 9, 11, 13, 15, 17, 19, 21, 23]\n"
     ]
    }
   ],
   "source": [
    "odd_numbers()"
   ]
  },
  {
   "cell_type": "markdown",
   "id": "d5e3fcaa-9ca2-4a99-96d3-c8a085fdbc20",
   "metadata": {},
   "source": [
    "# question 2"
   ]
  },
  {
   "cell_type": "markdown",
   "id": "95729539-a7c7-4079-a861-cf767d37884a",
   "metadata": {},
   "source": [
    "*args and **kwargs make the function flexible.\n",
    "\n",
    "We use *args and **kwargs as an argument when we are unsure about the number of arguments to pass in the functions.\n"
   ]
  },
  {
   "cell_type": "markdown",
   "id": "845613b0-de03-49d7-9672-6ed642caa772",
   "metadata": {},
   "source": [
    "# *args (Non Keyword Arguments)-\n",
    "                               allow us to pass the variable number of non keyword arguments to function.\n"
   ]
  },
  {
   "cell_type": "code",
   "execution_count": 3,
   "id": "7f04ef74-1516-4895-9d5f-d48f0e755036",
   "metadata": {},
   "outputs": [
    {
     "name": "stdout",
     "output_type": "stream",
     "text": [
      "Sum: 8\n",
      "Sum: 22\n",
      "Sum: 17\n"
     ]
    }
   ],
   "source": [
    "def adder(*num):\n",
    "    sum = 0\n",
    "    \n",
    "    for n in num:\n",
    "        sum = sum + n\n",
    "\n",
    "    print(\"Sum:\",sum)\n",
    "\n",
    "adder(3,5)\n",
    "adder(4,5,6,7)\n",
    "adder(1,2,3,5,6)"
   ]
  },
  {
   "cell_type": "markdown",
   "id": "fa56c8e8-a9fa-4e41-963a-ae7c2e3c7af2",
   "metadata": {},
   "source": [
    "# **kwargs (Keyword Arguments)-\n",
    "                             Using **kwargs to pass the variable keyword arguments to the function ."
   ]
  },
  {
   "cell_type": "code",
   "execution_count": 4,
   "id": "3a38067c-a01a-4ab1-ba34-57a92f648d6d",
   "metadata": {},
   "outputs": [
    {
     "name": "stdout",
     "output_type": "stream",
     "text": [
      "{'a': 3, 'b': 5, 'c': 'data science'}\n"
     ]
    }
   ],
   "source": [
    "def f1(**kwargs):\n",
    "    print(kwargs)\n",
    "    \n",
    "\n",
    "f1(a=3,b=5,c=\"data science\")    "
   ]
  },
  {
   "cell_type": "markdown",
   "id": "4c24ba6c-3907-405e-93ec-50982fb7d35d",
   "metadata": {},
   "source": [
    "# Question 3"
   ]
  },
  {
   "cell_type": "markdown",
   "id": "b834532a-bc09-4958-b72e-984a6bda129a",
   "metadata": {},
   "source": [
    "# Iterator in Python is an object that is used to iterate over iterable objects like lists, tuples, dicts, and sets.\n",
    "# The iterator object is initialized using the iter() method. It uses the next() method for iteration."
   ]
  },
  {
   "cell_type": "code",
   "execution_count": 11,
   "id": "21a2f0c0-2318-4aeb-a4d0-e5bae2c2d147",
   "metadata": {},
   "outputs": [
    {
     "name": "stdout",
     "output_type": "stream",
     "text": [
      "2\n",
      "4\n",
      "6\n",
      "8\n",
      "10\n"
     ]
    }
   ],
   "source": [
    "#  print first five numbers to iterate over a list using itrator\n",
    "list = [2,4,6,8,10,12,14,16,18,20]\n",
    " \n",
    "# Create an iterator object using the iter function\n",
    "iterator = iter(list)\n",
    " \n",
    "while True:\n",
    "        element = next(iterator)\n",
    "        if element==12:\n",
    "            break\n",
    "        print(element)    \n",
    "        \n",
    "           "
   ]
  },
  {
   "cell_type": "markdown",
   "id": "11dbb404-87dd-4d0f-b20b-edbbe91df220",
   "metadata": {},
   "source": [
    "# Question 4"
   ]
  },
  {
   "cell_type": "markdown",
   "id": "e5ce5e1d-06aa-445d-b0ae-18447837ff24",
   "metadata": {},
   "source": [
    "In Python, generator functions are those functions that, instead of returning a single value, return an iterable generator object. You can access or read the values returned from the generator function stored inside a generator object one-by-one using a simple loop or using next() or list() methods.\n",
    "\n",
    "A generator-function is defined like a normal function, but whenever it needs to generate a value, it does so with the yield keyword rather than return."
   ]
  },
  {
   "cell_type": "code",
   "execution_count": 10,
   "id": "e80c4f91-923d-49aa-b75f-3f617b1a27fe",
   "metadata": {},
   "outputs": [
    {
     "name": "stdout",
     "output_type": "stream",
     "text": [
      "1\n",
      "2\n",
      "3\n"
     ]
    }
   ],
   "source": [
    "# A generator function that yields 1 for first time,\n",
    "# 2 second time and 3 third time\n",
    "def simpleGeneratorFun():\n",
    "    yield 1           \n",
    "    yield 2           \n",
    "    yield 3           \n",
    "  \n",
    " \n",
    "for value in simpleGeneratorFun():\n",
    "    print(value)"
   ]
  },
  {
   "cell_type": "code",
   "execution_count": 2,
   "id": "21e4264e-b885-4c7d-a375-e29e99c79e1b",
   "metadata": {},
   "outputs": [
    {
     "name": "stdout",
     "output_type": "stream",
     "text": [
      "[0, 1, 1, 2, 3, 5, 8, 13, 21, 34]\n"
     ]
    }
   ],
   "source": [
    "\n",
    "#Example of Using Yield In Python (Fibonacci Series)\n",
    " \n",
    "#Here is a Fibonacci program that has been created using the yield keyword instead of return.\n",
    "\n",
    "def fibonacci(n):\n",
    "\n",
    "   temp1, temp2 = 0, 1\n",
    "\n",
    "   total = 0\n",
    "\n",
    "   while total < n:\n",
    "\n",
    "       yield temp1\n",
    "\n",
    "       temp3 = temp1 + temp2\n",
    "\n",
    "       temp1 = temp2\n",
    "\n",
    "       temp2 = temp3\n",
    "\n",
    "       total += 1\n",
    "\n",
    "fib_object = fibonacci(10)\n",
    "\n",
    "print(list(fib_object))"
   ]
  },
  {
   "cell_type": "markdown",
   "id": "1d286501-de36-43c9-a29e-118077cf611a",
   "metadata": {},
   "source": [
    "# question 5"
   ]
  },
  {
   "cell_type": "code",
   "execution_count": 35,
   "id": "a2bb7ea6-a0fe-4cbc-8c5c-3347e24c2562",
   "metadata": {},
   "outputs": [
    {
     "name": "stdout",
     "output_type": "stream",
     "text": [
      "2\n",
      "3\n",
      "5\n",
      "7\n",
      "11\n",
      "13\n",
      "17\n",
      "19\n"
     ]
    }
   ],
   "source": [
    "import math\n",
    "def primes(num):\n",
    "    if 2 <= num:\n",
    "        yield 2\n",
    "    for i in range(3, num + 1, 2):\n",
    "        if all(i % x != 0 for x in range(3, int(math.sqrt(i) + 1))):\n",
    "            yield i\n",
    "b= primes(20)          \n",
    "\n",
    "print(next(b))\n",
    "print(next(b))\n",
    "print(next(b))    \n",
    "print(next(b))\n",
    "print(next(b))\n",
    "print(next(b))\n",
    "print(next(b))\n",
    "print(next(b))\n"
   ]
  },
  {
   "cell_type": "markdown",
   "id": "57108cb1-4624-4093-bc8f-f9be738561f6",
   "metadata": {},
   "source": [
    "# Question 6"
   ]
  },
  {
   "cell_type": "code",
   "execution_count": 9,
   "id": "2bf311cd-4603-4217-a4a0-b59d42edac4c",
   "metadata": {},
   "outputs": [
    {
     "name": "stdout",
     "output_type": "stream",
     "text": [
      "0\n",
      "1\n",
      "1\n",
      "2\n",
      "3\n",
      "5\n",
      "8\n",
      "13\n",
      "21\n",
      "34\n"
     ]
    }
   ],
   "source": [
    "temp1, temp2 = 0, 1\n",
    "\n",
    "total = 0\n",
    "\n",
    "while total < 10:\n",
    "\n",
    "    print(temp1)\n",
    "\n",
    "    temp3 = temp1 + temp2\n",
    "\n",
    "    temp1 = temp2\n",
    "\n",
    "    temp2 = temp3\n",
    "\n",
    "    total += 1\n"
   ]
  },
  {
   "cell_type": "markdown",
   "id": "44f1094f-8998-431c-aa9a-347464596672",
   "metadata": {},
   "source": [
    "# Question 7"
   ]
  },
  {
   "cell_type": "code",
   "execution_count": 39,
   "id": "897f335c-f9e0-4423-ac04-6b27538838a7",
   "metadata": {},
   "outputs": [
    {
     "name": "stdout",
     "output_type": "stream",
     "text": [
      "['P', 'w', 's', 'k', 'i', 'l', 'l', 's']\n"
     ]
    }
   ],
   "source": [
    "h_letters = [ letter for letter in 'Pwskills' ]\n",
    "print( h_letters)"
   ]
  },
  {
   "cell_type": "markdown",
   "id": "b9c96b3c-8a28-4420-b0f8-bb70bf7a8939",
   "metadata": {},
   "source": [
    "# Question 8:"
   ]
  },
  {
   "cell_type": "code",
   "execution_count": 36,
   "id": "80ca2666-15cd-4aac-bc73-45aec3441af3",
   "metadata": {},
   "outputs": [
    {
     "name": "stdin",
     "output_type": "stream",
     "text": [
      "Enter number: 5\n"
     ]
    },
    {
     "name": "stdout",
     "output_type": "stream",
     "text": [
      "The number is a palindrome!\n"
     ]
    }
   ],
   "source": [
    "n=int(input(\"Enter number:\"))\n",
    "temp=n\n",
    "rev=0\n",
    "while(n>0):\n",
    "    dig=n%10\n",
    "    rev=rev*10+dig\n",
    "    n=n//10\n",
    "if(temp==rev):\n",
    "    print(\"The number is a palindrome!\")\n",
    "else:\n",
    "    print(\"The number isn't a palindrome!\")"
   ]
  },
  {
   "cell_type": "markdown",
   "id": "8e95b23d-7aa6-4e26-a933-aed1da1b11ce",
   "metadata": {},
   "source": [
    "# Question 9"
   ]
  },
  {
   "cell_type": "code",
   "execution_count": 44,
   "id": "bb877818-8796-4153-9418-2305491d9bb5",
   "metadata": {},
   "outputs": [
    {
     "name": "stdout",
     "output_type": "stream",
     "text": [
      "[1, 3, 5, 7, 9, 11, 13, 15, 17, 19, 21, 23, 25, 27, 29, 31, 33, 35, 37, 39, 41, 43, 45, 47, 49, 51, 53, 55, 57, 59, 61, 63, 65, 67, 69, 71, 73, 75, 77, 79, 81, 83, 85, 87, 89, 91, 93, 95, 97, 99]\n"
     ]
    }
   ],
   "source": [
    "odd_numbers = [ x for x in range(1,100) if x%2 !=0 ]\n",
    "print(odd_numbers)"
   ]
  },
  {
   "cell_type": "code",
   "execution_count": null,
   "id": "d79df133-7af5-4b19-8b15-a6e54c35420e",
   "metadata": {},
   "outputs": [],
   "source": []
  }
 ],
 "metadata": {
  "kernelspec": {
   "display_name": "Python 3 (ipykernel)",
   "language": "python",
   "name": "python3"
  },
  "language_info": {
   "codemirror_mode": {
    "name": "ipython",
    "version": 3
   },
   "file_extension": ".py",
   "mimetype": "text/x-python",
   "name": "python",
   "nbconvert_exporter": "python",
   "pygments_lexer": "ipython3",
   "version": "3.10.8"
  }
 },
 "nbformat": 4,
 "nbformat_minor": 5
}
